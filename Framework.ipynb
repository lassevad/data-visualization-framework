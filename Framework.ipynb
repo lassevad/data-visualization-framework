{
 "cells": [
  {
   "cell_type": "code",
   "execution_count": 1,
   "id": "herbal-stability",
   "metadata": {},
   "outputs": [],
   "source": [
    "import numpy as np\n",
    "import pandas as pd\n",
    "import matplotlib.pyplot as plt\n",
    "from pandas_profiling import ProfileReport\n",
    "from pandas.api.types import is_string_dtype\n",
    "from pandas.api.types import is_numeric_dtype\n",
    "import seaborn as sns"
   ]
  },
  {
   "cell_type": "code",
   "execution_count": 3,
   "id": "occasional-composer",
   "metadata": {},
   "outputs": [
    {
     "name": "stdout",
     "output_type": "stream",
     "text": [
      "     raceId  grid  positionOrder\n",
      "0       926    11             13\n",
      "1       927     6              7\n",
      "2       928    13             17\n",
      "3       929    15             18\n",
      "4       930     6             11\n",
      "..      ...   ...            ...\n",
      "115    1044     2              6\n",
      "116    1045     3              2\n",
      "117    1046     3             19\n",
      "118    1047     1              1\n",
      "119    1052     1              2\n",
      "\n",
      "[120 rows x 3 columns]\n"
     ]
    }
   ],
   "source": [
    "df = pd.read_csv(\"pgaTourData.csv\")\n",
    "df1 = pd.read_csv(\"f1.csv\")\n",
    "print(df1)\n",
    "plt.rcParams[\"figure.figsize\"] = (15, 10)"
   ]
  },
  {
   "cell_type": "code",
   "execution_count": 9,
   "id": "acquired-grade",
   "metadata": {
    "scrolled": false
   },
   "outputs": [
    {
     "name": "stdout",
     "output_type": "stream",
     "text": [
      "Context: Plotting data using the strategy\n"
     ]
    },
    {
     "data": {
      "image/png": "[encoded data removed]",
      "text/plain": [
       "<Figure size 1080x720 with 1 Axes>"
      ]
     },
     "metadata": {
      "needs_background": "light"
     },
     "output_type": "display_data"
    }
   ],
   "source": [
    "import seaborn as sns\n",
    "\n",
    "\n",
    "class PlotStrategy():\n",
    "    def plot(self, col1, col2, df, h):\n",
    "        pass\n",
    "\n",
    "\n",
    "class Context():\n",
    "    def __init__(self, strategy: PlotStrategy, df):\n",
    "        self._strategy = strategy\n",
    "        self._df = df\n",
    "\n",
    "    def getStrategy(self):\n",
    "        return self._strategy\n",
    "\n",
    "    def setStrategy(self, strategy):\n",
    "        self._strategy = strategy\n",
    "\n",
    "    def getDataFrame(self):\n",
    "        return self._df\n",
    "\n",
    "    def setDataFrame(self, df):\n",
    "        self._df = df\n",
    "\n",
    "    def plot(self, col1, col2, h = None):\n",
    "        print(\"Context: Plotting data using the strategy\")\n",
    "        self._strategy.plot(col1, col2, self.getDataFrame(), h)\n",
    "\n",
    "    # Manipulate dataset functions\n",
    "\n",
    "    def filterByRows(self, column, values):\n",
    "        self.setDataFrame(\n",
    "            self.getDataFrame().loc[self.getDataFrame()[column].isin(values)])\n",
    "\n",
    "    def sortByColumn(self, column, a):\n",
    "        self.setDataFrame(self.getDataFrame().sort_values(\n",
    "            by=[column], ascending=a))\n",
    "\n",
    "    def removeCharFromColumn(self, char, column):\n",
    "        self.getDataFrame()[column] = self.getDataFrame()[\n",
    "            column].str.replace(char, '')\n",
    "\n",
    "    def convertToFloat(self, column):\n",
    "        self.getDataFrame()[column] = self.getDataFrame()[column].astype(float)\n",
    "\n",
    "    def aggregate(self, group, ag_func):\n",
    "        newDf = self.getDataFrame().groupby(\n",
    "            self.getDataFrame()[group]).aggregate(ag_func)\n",
    "        self.setDataFrame(newDf)\n",
    "\n",
    "    def headN(self, N):\n",
    "        self.setDataFrame(self.getDataFrame().head(N))\n",
    "\n",
    "\n",
    "class ScatterStrategy(PlotStrategy):\n",
    "    def plot(self, col1, col2, df, h):\n",
    "        return sns.scatterplot(x=col1, y=col2, data=df, hue=h, size=h, sizes=(30, 200))\n",
    "    #fit_reg=True, scatter_kws={\"s\": 10}, line_kws={'color': 'red'}, \n",
    "\n",
    "\n",
    "class LineStrategy(PlotStrategy):\n",
    "    def plot(self, col1, col2, df, h):\n",
    "        return sns.lineplot(x=col1, y=col2, data=df, hue=h)\n",
    "\n",
    "\n",
    "class BarStrategy(PlotStrategy):\n",
    "    def plot(self, col1, col2, df, h):\n",
    "        return sns.catplot(data=df, kind=\"bar\", x=col1, y=col2, hue=h)\n",
    "\n",
    "\n",
    "if __name__ == \"__main__\":\n",
    "\n",
    "    #pga = Context(ScatterStrategy(), df)\n",
    "    f1 = Context(ScatterStrategy(), df1)\n",
    "    #pga.removeCharFromColumn(',', \"Money\")\n",
    "    #pga.removeCharFromColumn('$', \"Money\")\n",
    "    #pga.convertToFloat(\"Money\")\n",
    "    #pga.removeCharFromColumn(',', \"Points\")\n",
    "    #pga.convertToFloat(\"Points\")\n",
    "    #pga.plot(\"SG:APR\", \"Money\")\n",
    "    f1.plot(\"grid\", \"positionOrder\")\n",
    "    \n"
   ]
  },
  {
   "cell_type": "code",
   "execution_count": null,
   "id": "infrared-castle",
   "metadata": {},
   "outputs": [],
   "source": []
  },
  {
   "cell_type": "code",
   "execution_count": null,
   "id": "supported-fraction",
   "metadata": {},
   "outputs": [],
   "source": []
  }
 ],
 "metadata": {
  "kernelspec": {
   "display_name": "Python 3",
   "language": "python",
   "name": "python3"
  },
  "language_info": {
   "codemirror_mode": {
    "name": "ipython",
    "version": 3
   },
   "file_extension": ".py",
   "mimetype": "text/x-python",
   "name": "python",
   "nbconvert_exporter": "python",
   "pygments_lexer": "ipython3",
   "version": "3.9.4"
  }
 },
 "nbformat": 4,
 "nbformat_minor": 5
}
